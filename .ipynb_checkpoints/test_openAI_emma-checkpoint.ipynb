{
 "cells": [
  {
   "cell_type": "code",
   "execution_count": null,
   "metadata": {},
   "outputs": [],
   "source": [
    "# !pip install openai\n",
    "# !pip install streamlit\n",
    "\n",
    "### Migration error\n",
    "# !openai migrate\n",
    "# pip install openai==0.28\n",
    "# Run : !pip install openai==0.28"
   ]
  },
  {
   "cell_type": "code",
   "execution_count": 4,
   "metadata": {},
   "outputs": [
    {
     "name": "stdout",
     "output_type": "stream",
     "text": [
      "\n",
      "     active environment : snowpark-llm-chatbot\n",
      "    active env location : C:\\Users\\zhouj18\\AppData\\Local\\anaconda3\\envs\\snowpark-llm-chatbot\n",
      "            shell level : 2\n",
      "       user config file : C:\\Users\\zhouj18\\.condarc\n",
      " populated config files : C:\\Users\\zhouj18\\.condarc\n",
      "          conda version : 23.7.4\n",
      "    conda-build version : 3.26.1\n",
      "         python version : 3.11.5.final.0\n",
      "       virtual packages : __archspec=1=x86_64\n",
      "                          __win=0=0\n",
      "       base environment : C:\\Users\\zhouj18\\AppData\\Local\\anaconda3  (writable)\n",
      "      conda av data dir : C:\\Users\\zhouj18\\AppData\\Local\\anaconda3\\etc\\conda\n",
      "  conda av metadata url : None\n",
      "           channel URLs : https://repo.anaconda.com/pkgs/main/win-64\n",
      "                          https://repo.anaconda.com/pkgs/main/noarch\n",
      "                          https://repo.anaconda.com/pkgs/r/win-64\n",
      "                          https://repo.anaconda.com/pkgs/r/noarch\n",
      "                          https://repo.anaconda.com/pkgs/msys2/win-64\n",
      "                          https://repo.anaconda.com/pkgs/msys2/noarch\n",
      "                          https://conda.anaconda.org/conda-forge/win-64\n",
      "                          https://conda.anaconda.org/conda-forge/noarch\n",
      "          package cache : C:\\Users\\zhouj18\\AppData\\Local\\anaconda3\\pkgs\n",
      "                          C:\\Users\\zhouj18\\.conda\\pkgs\n",
      "                          C:\\Users\\zhouj18\\AppData\\Local\\conda\\conda\\pkgs\n",
      "       envs directories : C:\\Users\\zhouj18\\AppData\\Local\\anaconda3\\envs\n",
      "                          C:\\Users\\zhouj18\\.conda\\envs\n",
      "                          C:\\Users\\zhouj18\\AppData\\Local\\conda\\conda\\envs\n",
      "               platform : win-64\n",
      "             user-agent : conda/23.7.4 requests/2.31.0 CPython/3.11.5 Windows/10 Windows/10.0.19045 aau/0.4.2 c/KNWqqPPoXslsbtP3AIbl9g s/xUQ88ALxmpfnU8ve93_uOw e/f_ABFyDyfHQ0dpJ-8e5gNA\n",
      "          administrator : False\n",
      "             netrc file : None\n",
      "           offline mode : False\n",
      "\n",
      "\n"
     ]
    }
   ],
   "source": [
    "!conda info "
   ]
  },
  {
   "cell_type": "code",
   "execution_count": 10,
   "metadata": {},
   "outputs": [
    {
     "ename": "ModuleNotFoundError",
     "evalue": "No module named 'streamlit'",
     "output_type": "error",
     "traceback": [
      "\u001b[1;31m---------------------------------------------------------------------------\u001b[0m",
      "\u001b[1;31mModuleNotFoundError\u001b[0m                       Traceback (most recent call last)",
      "Cell \u001b[1;32mIn[10], line 1\u001b[0m\n\u001b[1;32m----> 1\u001b[0m \u001b[38;5;28;01mimport\u001b[39;00m \u001b[38;5;21;01mstreamlit\u001b[39;00m \u001b[38;5;28;01mas\u001b[39;00m \u001b[38;5;21;01mst\u001b[39;00m\n\u001b[0;32m      2\u001b[0m \u001b[38;5;28;01mimport\u001b[39;00m \u001b[38;5;21;01mopenai\u001b[39;00m\n\u001b[0;32m      4\u001b[0m \u001b[38;5;66;03m# Set Azure OpenAI API configuration\u001b[39;00m\n",
      "\u001b[1;31mModuleNotFoundError\u001b[0m: No module named 'streamlit'"
     ]
    }
   ],
   "source": [
    "import streamlit as st\n",
    "import openai\n",
    "\n",
    "# Set Azure OpenAI API configuration\n",
    "openai.api_type = \"azure\"\n",
    "openai.api_base = \"https://edhopenaitest.openai.azure.com/\" # ??\n",
    "openai.api_version = \"2023-07-01-preview\"\n",
    "openai.api_key = \"e83a3572341642228cd2fbd04b0b2da7\"\n",
    "\n"
   ]
  },
  {
   "cell_type": "code",
   "execution_count": 9,
   "metadata": {},
   "outputs": [
    {
     "ename": "NameError",
     "evalue": "name 'openai' is not defined",
     "output_type": "error",
     "traceback": [
      "\u001b[1;31m---------------------------------------------------------------------------\u001b[0m",
      "\u001b[1;31mNameError\u001b[0m                                 Traceback (most recent call last)",
      "Cell \u001b[1;32mIn[9], line 3\u001b[0m\n\u001b[0;32m      1\u001b[0m \u001b[38;5;66;03m# You tried to access openai.ChatCompletion, but this is no longer supported in openai>=1.0.0 - see the README at https://github.com/openai/openai-python for the API.\u001b[39;00m\n\u001b[0;32m      2\u001b[0m prompt_text \u001b[38;5;241m=\u001b[39m \u001b[38;5;124m\"\u001b[39m\u001b[38;5;124mWhat\u001b[39m\u001b[38;5;124m'\u001b[39m\u001b[38;5;124ms the weather like today in New York?\u001b[39m\u001b[38;5;124m\"\u001b[39m\n\u001b[1;32m----> 3\u001b[0m response \u001b[38;5;241m=\u001b[39m openai\u001b[38;5;241m.\u001b[39mcompletions\u001b[38;5;241m.\u001b[39mcreate(\n\u001b[0;32m      4\u001b[0m             engine\u001b[38;5;241m=\u001b[39m\u001b[38;5;124m\"\u001b[39m\u001b[38;5;124mgpt-4-edh\u001b[39m\u001b[38;5;124m\"\u001b[39m, \u001b[38;5;66;03m# ??\u001b[39;00m\n\u001b[0;32m      5\u001b[0m             messages\u001b[38;5;241m=\u001b[39m[{\u001b[38;5;124m\"\u001b[39m\u001b[38;5;124mrole\u001b[39m\u001b[38;5;124m\"\u001b[39m: \u001b[38;5;124m\"\u001b[39m\u001b[38;5;124msystem\u001b[39m\u001b[38;5;124m\"\u001b[39m, \u001b[38;5;124m\"\u001b[39m\u001b[38;5;124mcontent\u001b[39m\u001b[38;5;124m\"\u001b[39m: prompt_text}],\n\u001b[0;32m      6\u001b[0m             \u001b[38;5;66;03m#prompt = prompt_text,\u001b[39;00m\n\u001b[0;32m      7\u001b[0m             temperature\u001b[38;5;241m=\u001b[39m\u001b[38;5;241m0.7\u001b[39m,\n\u001b[0;32m      8\u001b[0m             max_tokens\u001b[38;5;241m=\u001b[39m\u001b[38;5;241m150\u001b[39m\n\u001b[0;32m      9\u001b[0m )\n\u001b[0;32m     10\u001b[0m completion_text \u001b[38;5;241m=\u001b[39m response\u001b[38;5;241m.\u001b[39mchoices[\u001b[38;5;241m0\u001b[39m]\u001b[38;5;241m.\u001b[39mtext\n\u001b[0;32m     11\u001b[0m \u001b[38;5;28mprint\u001b[39m(\u001b[38;5;124m\"\u001b[39m\u001b[38;5;124mCompletion:\u001b[39m\u001b[38;5;124m\"\u001b[39m, completion_text)\n",
      "\u001b[1;31mNameError\u001b[0m: name 'openai' is not defined"
     ]
    }
   ],
   "source": [
    "# You tried to access openai.ChatCompletion, but this is no longer supported in openai>=1.0.0 - see the README at https://github.com/openai/openai-python for the API.\n",
    "prompt_text = \"What's the weather like today in New York?\"\n",
    "response = openai.completions.create(\n",
    "            engine=\"gpt-4-edh\", # ??\n",
    "            messages=[{\"role\": \"system\", \"content\": prompt_text}],\n",
    "            #prompt = prompt_text,\n",
    "            temperature=0.7,\n",
    "            max_tokens=150\n",
    ")\n",
    "completion_text = response.choices[0].text\n",
    "print(\"Completion:\", completion_text)"
   ]
  },
  {
   "cell_type": "code",
   "execution_count": null,
   "metadata": {},
   "outputs": [],
   "source": [
    "### Launch Streamlit App"
   ]
  },
  {
   "cell_type": "code",
   "execution_count": 45,
   "metadata": {},
   "outputs": [],
   "source": [
    "def generate_code(description, language):\n",
    "    try:\n",
    "        response = openai.ChatCompletion.create(\n",
    "            engine=\"gpt-4-edh\",\n",
    "            messages=[{\"role\": \"system\", \"content\": f\"Translate this into {language} code: {description}\"}],\n",
    "            temperature=0.7,\n",
    "            max_tokens=150\n",
    "        )\n",
    "        return response.choices[0].message[\"content\"].strip()\n",
    "    except Exception as e:\n",
    "        return f\"Error: {e}\"\n",
    "\n",
    "def main():\n",
    "    st.title(\"Plain English to Code Translator\")\n",
    "\n",
    "    # User inputs\n",
    "    description = st.text_area(\"What's the weather like today?\")\n",
    "    language = st.selectbox(\"Select Programming Language\", [\"Python\", \"JavaScript\", \"C++\", \"Java\", \"Others\"])\n",
    "    translate_button = st.button(\"Translate to Code\")\n",
    "\n",
    "    if translate_button and description:\n",
    "        generated_code = generate_code(description, language)\n",
    "        st.text_area(\"Generated Code:\", generated_code, height=300)\n",
    "\n",
    "if __name__ == \"__main__\":\n",
    "    main()\n",
    " \n"
   ]
  },
  {
   "cell_type": "code",
   "execution_count": 46,
   "metadata": {},
   "outputs": [],
   "source": [
    "!streamlit run c:\\Users\\zhoum9\\AppData\\Local\\Programs\\Python\\Python312\\Lib\\site-packages\\ipykernel_launcher.py [ARGUMENTS]"
   ]
  },
  {
   "cell_type": "code",
   "execution_count": 3,
   "metadata": {},
   "outputs": [
    {
     "name": "stdout",
     "output_type": "stream",
     "text": [
      " Volume in drive C is OSDisk\n",
      " Volume Serial Number is F47F-309A\n",
      "\n",
      " Directory of C:\\jimzh_work\\AIwriting\\sfguide-frosty-llm-chatbot-on-streamlit-snowflake\n",
      "\n",
      "02/14/2024  01:03 PM    <DIR>          .\n",
      "02/14/2024  01:03 PM    <DIR>          ..\n",
      "01/29/2024  11:03 AM    <DIR>          .devcontainer\n",
      "01/29/2024  11:03 AM                68 .gitignore\n",
      "02/14/2024  01:04 PM    <DIR>          .ipynb_checkpoints\n",
      "02/14/2024  10:09 AM    <DIR>          .streamlit\n",
      "01/29/2024  11:03 AM    <DIR>          assets\n",
      "01/29/2024  11:03 AM               251 LEGAL.md\n",
      "01/29/2024  11:03 AM            11,561 LICENSE\n",
      "01/29/2024  11:03 AM             3,348 README.md\n",
      "01/29/2024  11:03 AM                86 requirements.txt\n",
      "02/14/2024  11:34 AM    <DIR>          src\n",
      "02/14/2024  01:01 PM            10,278 test_openAI_emma.ipynb\n",
      "02/14/2024  12:14 PM               635 validate_credentials_mine.py\n",
      "02/14/2024  12:31 PM             1,708 validate_credentials_sam.py\n",
      "               8 File(s)         27,935 bytes\n",
      "               7 Dir(s)  17,424,007,168 bytes free\n"
     ]
    }
   ],
   "source": [
    "!dir"
   ]
  },
  {
   "cell_type": "code",
   "execution_count": null,
   "metadata": {},
   "outputs": [],
   "source": [
    "!streamlit run C:\\jimzh_work\\AIwriting\\sfguide-frosty-llm-chatbot-on-streamlit-snowflake\\validate_credentials_sam.py"
   ]
  },
  {
   "cell_type": "code",
   "execution_count": null,
   "metadata": {},
   "outputs": [],
   "source": []
  }
 ],
 "metadata": {
  "kernelspec": {
   "display_name": "Python 3 (ipykernel)",
   "language": "python",
   "name": "python3"
  },
  "language_info": {
   "codemirror_mode": {
    "name": "ipython",
    "version": 3
   },
   "file_extension": ".py",
   "mimetype": "text/x-python",
   "name": "python",
   "nbconvert_exporter": "python",
   "pygments_lexer": "ipython3",
   "version": "3.11.5"
  }
 },
 "nbformat": 4,
 "nbformat_minor": 4
}
